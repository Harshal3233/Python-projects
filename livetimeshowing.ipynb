{
 "cells": [
  {
   "cell_type": "code",
   "execution_count": 2,
   "id": "23f6469e-316d-4b4d-a3dc-603fcb4526a5",
   "metadata": {},
   "outputs": [
    {
     "name": "stdout",
     "output_type": "stream",
     "text": [
      "18:32:22\n",
      "18\n",
      "18\n",
      "22\n"
     ]
    }
   ],
   "source": [
    "import time\n",
    "timestamp= time.strftime('%H:%M:%S')\n",
    "print(timestamp)\n",
    "timestamp= time.strftime(\"%H\")\n",
    "print(timestamp)\n",
    "timsetamp= time.strftime(\"%M\")\n",
    "print(timestamp)\n",
    "timestamp=time.strftime('%S')\n",
    "print(timestamp)"
   ]
  },
  {
   "cell_type": "code",
   "execution_count": 3,
   "id": "c1f4003c-54d7-4fa1-8aab-f4489eb60693",
   "metadata": {},
   "outputs": [
    {
     "name": "stdout",
     "output_type": "stream",
     "text": [
      "17,03,49\n"
     ]
    }
   ],
   "source": [
    "import time\n",
    "timestamp= time.strftime(\"%H,%M,%S\")\n",
    "print(timestamp)"
   ]
  },
  {
   "cell_type": "code",
   "execution_count": 5,
   "id": "1f5a5b05-6bde-47dc-addb-ced2d498802a",
   "metadata": {},
   "outputs": [
    {
     "name": "stdout",
     "output_type": "stream",
     "text": [
      "17,05,47\n",
      "17\n",
      "05\n",
      "47\n"
     ]
    }
   ],
   "source": [
    "import time\n",
    "x=time.strftime(\"%H,%M,%S\")\n",
    "print(x)\n",
    "x=time.strftime(\"%H\")\n",
    "print(x)\n",
    "x=time.strftime(\"%M\")\n",
    "print(x)\n",
    "x=time.strftime(\"%S\")\n",
    "print(x)"
   ]
  },
  {
   "cell_type": "code",
   "execution_count": null,
   "id": "fbba1f9b-51da-431b-9bde-418c22e5a271",
   "metadata": {},
   "outputs": [],
   "source": []
  }
 ],
 "metadata": {
  "kernelspec": {
   "display_name": "Python 3 (ipykernel)",
   "language": "python",
   "name": "python3"
  },
  "language_info": {
   "codemirror_mode": {
    "name": "ipython",
    "version": 3
   },
   "file_extension": ".py",
   "mimetype": "text/x-python",
   "name": "python",
   "nbconvert_exporter": "python",
   "pygments_lexer": "ipython3",
   "version": "3.12.4"
  }
 },
 "nbformat": 4,
 "nbformat_minor": 5
}
