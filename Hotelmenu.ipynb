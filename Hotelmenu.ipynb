{
 "cells": [
  {
   "cell_type": "code",
   "execution_count": 7,
   "id": "bc802dec-94f5-4547-b6ac-df2fe15710b5",
   "metadata": {},
   "outputs": [
    {
     "name": "stdout",
     "output_type": "stream",
     "text": [
      "Welcome to the restaurent\n",
      "We have:\n",
      " pizza-150,\n",
      " Burger-120,\n",
      " Sandwhich-110,\n",
      " Mojito-80,\n",
      " Corona-200\n"
     ]
    },
    {
     "name": "stdin",
     "output_type": "stream",
     "text": [
      "Enter the name of your item Pizza\n"
     ]
    },
    {
     "name": "stdout",
     "output_type": "stream",
     "text": [
      "Your item Pizza has been added\n"
     ]
    },
    {
     "name": "stdin",
     "output_type": "stream",
     "text": [
      "Do you want to order another item? (yes/no) yes\n",
      "Enter the name of second item Corona\n"
     ]
    },
    {
     "name": "stdout",
     "output_type": "stream",
     "text": [
      "The order Corona has been added\n",
      "Thank you, the total amount of order to pay is 350\n"
     ]
    }
   ],
   "source": [
    "#Define the menu of the restaurent\n",
    "\n",
    "menu={\n",
    "    \"Pizza\":150,\n",
    "    \"Burger\":120,\n",
    "    \"Sandwich\":110,\n",
    "    \"Mojito\":80,\n",
    "    \"Corona\":200,\n",
    "}\n",
    "\n",
    "#Greet\n",
    "\n",
    "print(\"Welcome to the restaurent\")\n",
    "print(\"We have:\\n pizza-150,\\n Burger-120,\\n Sandwhich-110,\\n Mojito-80,\\n Corona-200\")\n",
    "\n",
    "order_total=0\n",
    "\n",
    "item1=input(\"Enter the name of your item\")\n",
    "if item1 in menu:\n",
    "    order_total=order_total+menu[item1]\n",
    "    print(f\"Your item {item1} has been added\")\n",
    "    \n",
    "\n",
    "else:\n",
    "    print(\"The mentioned item is not available in the menu\")\n",
    "\n",
    "another_order=input(\"Do you want to order another item? (yes/no)\")\n",
    "if another_order==\"yes\":\n",
    "    item2=input(\"Enter the name of second item\")\n",
    "    if item2 in menu:\n",
    "        order_total=order_total+menu[item2]\n",
    "        print(f\"The order {item2} has been added\")\n",
    "    else:\n",
    "        print(f\"The order {item2} is not available in the menu\")\n",
    "\n",
    "print(f\"Thank you, the total amount of order to pay is {order_total}\")"
   ]
  },
  {
   "cell_type": "code",
   "execution_count": null,
   "id": "aa30ef0a-9419-4555-9f71-324c78588d31",
   "metadata": {},
   "outputs": [],
   "source": []
  }
 ],
 "metadata": {
  "kernelspec": {
   "display_name": "Python 3 (ipykernel)",
   "language": "python",
   "name": "python3"
  },
  "language_info": {
   "codemirror_mode": {
    "name": "ipython",
    "version": 3
   },
   "file_extension": ".py",
   "mimetype": "text/x-python",
   "name": "python",
   "nbconvert_exporter": "python",
   "pygments_lexer": "ipython3",
   "version": "3.12.4"
  }
 },
 "nbformat": 4,
 "nbformat_minor": 5
}
