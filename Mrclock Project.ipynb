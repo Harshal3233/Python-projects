{
 "cells": [
  {
   "cell_type": "code",
   "execution_count": 2,
   "id": "23f6469e-316d-4b4d-a3dc-603fcb4526a5",
   "metadata": {},
   "outputs": [
    {
     "name": "stdout",
     "output_type": "stream",
     "text": [
      "18:32:22\n",
      "18\n",
      "18\n",
      "22\n"
     ]
    }
   ],
   "source": [
    "import time                                              #Test 1\n",
    "timestamp= time.strftime('%H:%M:%S')\n",
    "print(timestamp)\n",
    "timestamp= time.strftime(\"%H\")\n",
    "print(timestamp)\n",
    "timsetamp= time.strftime(\"%M\")\n",
    "print(timestamp)\n",
    "timestamp=time.strftime('%S')\n",
    "print(timestamp)"
   ]
  },
  {
   "cell_type": "code",
   "execution_count": 3,
   "id": "c1f4003c-54d7-4fa1-8aab-f4489eb60693",
   "metadata": {},
   "outputs": [
    {
     "name": "stdout",
     "output_type": "stream",
     "text": [
      "17,03,49\n"
     ]
    }
   ],
   "source": [
    "import time                                             #Test 2\n",
    "timestamp= time.strftime(\"%H,%M,%S\")\n",
    "print(timestamp)"
   ]
  },
  {
   "cell_type": "code",
   "execution_count": 15,
   "id": "1f5a5b05-6bde-47dc-addb-ced2d498802a",
   "metadata": {},
   "outputs": [
    {
     "name": "stdout",
     "output_type": "stream",
     "text": [
      "13,47,34\n",
      "13\n",
      "Good afternoon sir\n",
      "47\n",
      "34\n"
     ]
    }
   ],
   "source": [
    "import time                                                #Test 3\n",
    "x=time.strftime(\"%H,%M,%S\")\n",
    "print(x)\n",
    "hour=int(time.strftime(\"%H\"))\n",
    "print(hour)\n",
    "if (hour>6 and hour<8):\n",
    "    print(\"Good morning sir\")\n",
    "elif (hour>12 and hour<17):\n",
    "    print(\"Good afternoon sir\")\n",
    "if (hour>22 and hour<24):\n",
    "    print(\"Good night sir \")\n",
    "Min=time.strftime(\"%M\")\n",
    "print(Min)\n",
    "Sec=time.strftime(\"%S\")\n",
    "print(Sec)"
   ]
  },
  {
   "cell_type": "code",
   "execution_count": 34,
   "id": "fbba1f9b-51da-431b-9bde-418c22e5a271",
   "metadata": {},
   "outputs": [
    {
     "name": "stdin",
     "output_type": "stream",
     "text": [
      "Hello sir/mam. I am a Mr.clock!! How may i help you? Hi\n"
     ]
    },
    {
     "name": "stdout",
     "output_type": "stream",
     "text": [
      "Good afternoon \n",
      "It's 14,24,09\n"
     ]
    }
   ],
   "source": [
    "X=input(\"Hello sir/mam. I am a Mr.clock!! How may i help you?\")                       #The final Project!!\n",
    "#Please ask (\" please tell me the time Mr clock)\n",
    "import time\n",
    "clock=time.strftime(\"%H,%M,%S\")\n",
    "hour=int(time.strftime(\"%H\"))\n",
    "if(hour>=0 and hour<12):\n",
    "    print(\"Good morning \")\n",
    "elif(hour>=12 and hour<17):\n",
    "    print(\"Good afternoon \")\n",
    "elif(hour>=17 and hour<0):\n",
    "    print(\"You should sleep!!\")\n",
    "print(\"It's\",clock)      "
   ]
  },
  {
   "cell_type": "code",
   "execution_count": null,
   "id": "1c0d2260-d6ba-4b53-b309-95a3cbeffe80",
   "metadata": {},
   "outputs": [],
   "source": []
  }
 ],
 "metadata": {
  "kernelspec": {
   "display_name": "Python 3 (ipykernel)",
   "language": "python",
   "name": "python3"
  },
  "language_info": {
   "codemirror_mode": {
    "name": "ipython",
    "version": 3
   },
   "file_extension": ".py",
   "mimetype": "text/x-python",
   "name": "python",
   "nbconvert_exporter": "python",
   "pygments_lexer": "ipython3",
   "version": "3.12.4"
  }
 },
 "nbformat": 4,
 "nbformat_minor": 5
}
